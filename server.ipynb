{
 "cells": [
  {
   "cell_type": "code",
   "execution_count": 2,
   "id": "14a599ba",
   "metadata": {},
   "outputs": [],
   "source": [
    "from fastapi import FastAPI\n",
    "from pydantic import BaseModel\n",
    "import pandas as pd\n",
    "import joblib\n",
    "from typing import List\n",
    "\n",
    "app = FastAPI()\n",
    "\n",
    "# Load your trained model\n",
    "model = joblib.load('loan_optimizer_model.joblib')\n",
    "\n",
    "class LoanOption(BaseModel):\n",
    "    min_amount: float\n",
    "    interest_rate: float\n",
    "    max_amount: float\n",
    "    term_months: int\n",
    "    loan_names: str\n",
    "\n",
    "class UserProfile(BaseModel):\n",
    "    total_assets_value: float\n",
    "    average_monthly_income: float\n",
    "    average_monthly_expenses: float\n",
    "    target_savings: float\n",
    "    time_horizon: int\n",
    "\n",
    "@app.post(\"/evaluate-loans\")\n",
    "async def evaluate_loans(profile: UserProfile, loan_options: List[LoanOption]):\n",
    "    # Convert loan options to DataFrame\n",
    "    loan_df = pd.DataFrame([lo.dict() for lo in loan_options])\n",
    "    \n",
    "    # Process data as per your original script\n",
    "    processed_df = loan_df.copy()\n",
    "    processed_df['loan_amount'] = (processed_df['min_amount'] + processed_df['max_amount']) / 2\n",
    "    monthly_surplus = max(profile.average_monthly_income - profile.average_monthly_expenses, 1)\n",
    "    \n",
    "    # Calculate derived features\n",
    "    def calculate_payment(row):\n",
    "        monthly_rate = row['interest_rate'] / 100 / 12\n",
    "        loan_amount = row['loan_amount']\n",
    "        term = row['term_months']\n",
    "        if monthly_rate == 0:\n",
    "            return loan_amount / term\n",
    "        numerator = loan_amount * monthly_rate\n",
    "        denominator = 1 - (1 + monthly_rate) ** -term\n",
    "        return numerator / denominator\n",
    "    \n",
    "    processed_df['monthly_loan_payment'] = processed_df.apply(calculate_payment, axis=1)\n",
    "    processed_df['total_repayment'] = processed_df['monthly_loan_payment'] * processed_df['term_months']\n",
    "    processed_df['interest_cost'] = processed_df['total_repayment'] - processed_df['loan_amount']\n",
    "    processed_df['loan_to_income'] = processed_df['loan_amount'] / profile.average_monthly_income\n",
    "    processed_df['cash_runway'] = profile.total_assets_value / monthly_surplus\n",
    "\n",
    "    # Create input DataFrame\n",
    "    input_data = pd.DataFrame({\n",
    "        'monthly_income': [profile.average_monthly_income] * len(processed_df),\n",
    "        'monthly_expenses': [profile.average_monthly_expenses] * len(processed_df),\n",
    "        'existing_assets': [profile.total_assets_value] * len(processed_df),\n",
    "        'interest_rate': processed_df['interest_rate'],\n",
    "        'loan_amount': processed_df['loan_amount'],\n",
    "        'term_months': processed_df['term_months'],\n",
    "        'time_horizon': [profile.time_horizon] * len(processed_df),\n",
    "        'loan_names': processed_df['loan_names'],\n",
    "        'loan_to_income': processed_df['loan_to_income'],\n",
    "        'interest_cost': processed_df['interest_cost'],\n",
    "        'cash_runway': processed_df['cash_runway']\n",
    "    })\n",
    "\n",
    "    # Make predictions\n",
    "    processed_df['predicted_savings_margin'] = model.predict(input_data)\n",
    "    \n",
    "    # Sort and return results\n",
    "    results = processed_df.sort_values('predicted_savings_margin', ascending=False)\n",
    "    return results[['loan_names', 'loan_amount', 'term_months', \n",
    "                    'interest_rate', 'predicted_savings_margin']].to_dict(orient='records')"
   ]
  },
  {
   "cell_type": "code",
   "execution_count": 3,
   "id": "058ec7bd",
   "metadata": {},
   "outputs": [
    {
     "name": "stderr",
     "output_type": "stream",
     "text": [
      "INFO:     Started server process [15724]\n",
      "INFO:     Waiting for application startup.\n",
      "INFO:     Application startup complete.\n",
      "INFO:     Uvicorn running on http://127.0.0.1:8000 (Press CTRL+C to quit)\n"
     ]
    },
    {
     "name": "stdout",
     "output_type": "stream",
     "text": [
      "Starting server on http://127.0.0.1:8000\n",
      "INFO:     127.0.0.1:50738 - \"GET / HTTP/1.1\" 404 Not Found\n",
      "INFO:     127.0.0.1:50738 - \"GET /favicon.ico HTTP/1.1\" 404 Not Found\n",
      "INFO:     127.0.0.1:50739 - \"GET /evaluate-loans HTTP/1.1\" 404 Not Found\n"
     ]
    },
    {
     "name": "stderr",
     "output_type": "stream",
     "text": [
      "INFO:     Shutting down\n",
      "INFO:     Waiting for application shutdown.\n",
      "INFO:     Application shutdown complete.\n",
      "INFO:     Finished server process [15724]\n"
     ]
    }
   ],
   "source": [
    "from fastapi import FastAPI\n",
    "from pydantic import BaseModel\n",
    "import pandas as pd\n",
    "import joblib\n",
    "from typing import List\n",
    "import uvicorn\n",
    "import nest_asyncio  # Needed for Jupyter\n",
    "\n",
    "# Required for running async in Jupyter\n",
    "nest_asyncio.apply()\n",
    "\n",
    "app = FastAPI()\n",
    "\n",
    "# ... [Keep your existing model and endpoint code here] ...\n",
    "\n",
    "# Server configuration\n",
    "PORT = 8000\n",
    "HOST = \"127.0.0.1\"  # localhost\n",
    "\n",
    "if __name__ == \"__main__\":\n",
    "    print(f\"Starting server on http://{HOST}:{PORT}\")\n",
    "    uvicorn.run(\n",
    "        app,\n",
    "        host=HOST,\n",
    "        port=PORT,\n",
    "        log_level=\"info\",\n",
    "        reload=False  # Disable reload in Jupyter\n",
    "    )"
   ]
  },
  {
   "cell_type": "code",
   "execution_count": null,
   "id": "64c6f432",
   "metadata": {},
   "outputs": [],
   "source": []
  }
 ],
 "metadata": {
  "kernelspec": {
   "display_name": ".venv",
   "language": "python",
   "name": "python3"
  },
  "language_info": {
   "codemirror_mode": {
    "name": "ipython",
    "version": 3
   },
   "file_extension": ".py",
   "mimetype": "text/x-python",
   "name": "python",
   "nbconvert_exporter": "python",
   "pygments_lexer": "ipython3",
   "version": "3.13.2"
  }
 },
 "nbformat": 4,
 "nbformat_minor": 5
}
